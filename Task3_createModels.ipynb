{
 "cells": [
  {
   "cell_type": "markdown",
   "metadata": {},
   "source": [
    "---------------------------------------------------------------------\n",
    "## Data Science with Python\n",
    "### Task 3: Build and Evaluate Models\n",
    "#### By Roslyn Badilla\n",
    "#### March, 2020\n",
    "---------------------------------------------------------------------"
   ]
  },
  {
   "cell_type": "code",
   "execution_count": 113,
   "metadata": {},
   "outputs": [],
   "source": [
    "#imports\n",
    "import numpy as np\n",
    "import pandas as pd\n",
    "import scipy\n",
    "from math import sqrt\n",
    "import matplotlib.pyplot as plt\n",
    "\n",
    "#estimators\n",
    "from sklearn.tree import DecisionTreeClassifier\n",
    "from sklearn.ensemble import RandomForestClassifier , GradientBoostingClassifier, AdaBoostClassifier\n",
    "\n",
    "#model metrics\n",
    "from sklearn.metrics import accuracy_score\n",
    "from sklearn.metrics import f1_score\n",
    "from sklearn.metrics import confusion_matrix\n",
    "\n",
    "#cross validation\n",
    "from sklearn.model_selection import train_test_split\n",
    "from sklearn.model_selection import GridSearchCV"
   ]
  },
  {
   "cell_type": "code",
   "execution_count": 41,
   "metadata": {},
   "outputs": [],
   "source": [
    "#data\n",
    "rawData = pd.read_csv('credit_clean.csv', header=0)"
   ]
  },
  {
   "cell_type": "code",
   "execution_count": 42,
   "metadata": {},
   "outputs": [
    {
     "data": {
      "text/plain": [
       "4    5056\n",
       "3    6728\n",
       "2    5626\n",
       "5    5986\n",
       "1    6604\n",
       "Name: AGE_GROUP, dtype: int64"
      ]
     },
     "execution_count": 42,
     "metadata": {},
     "output_type": "execute_result"
    }
   ],
   "source": [
    "# Decode data in AGE_GROUP(Quantile bins) to be a number:\n",
    "\n",
    "def age_group1(series):\n",
    "    if series == \"(20.999, 27.0]\":\n",
    "        return \"1\"\n",
    "    elif series == \"(27.0, 31.0]\":\n",
    "        return \"2\"\n",
    "    elif series == \"(31.0, 37.0]\":\n",
    "        return \"3\"\n",
    "    elif series == \"(37.0, 43.0]\":\n",
    "        return \"4\" \n",
    "    elif series == \"(43.0, 79.0]\":\n",
    "        return \"5\"\n",
    "\n",
    "rawData['AGE_GROUP'] = rawData['AGE_GROUP'].apply(age_group1)\n",
    "\n",
    "rawData['AGE_GROUP'].value_counts(sort=False) "
   ]
  },
  {
   "cell_type": "code",
   "execution_count": 43,
   "metadata": {},
   "outputs": [
    {
     "data": {
      "text/plain": [
       "4      170\n",
       "3     3382\n",
       "6        1\n",
       "2     8786\n",
       "5       35\n",
       "1    17626\n",
       "Name: CREDIT_GROUP, dtype: int64"
      ]
     },
     "execution_count": 43,
     "metadata": {},
     "output_type": "execute_result"
    }
   ],
   "source": [
    "# Decode data in CREDIT_GROUP(6 bins) to be a number:\n",
    "\n",
    "def credit_group(series):\n",
    "    if series == \"(9010.0, 175000.0]\":\n",
    "        return \"1\"\n",
    "    elif series == \"(175000.0, 340000.0]\":\n",
    "        return \"2\"\n",
    "    elif series == \"(340000.0, 505000.0]\":\n",
    "        return \"3\"\n",
    "    elif series == \"(505000.0, 670000.0]\":\n",
    "        return \"4\" \n",
    "    elif series == \"(670000.0, 835000.0]\":\n",
    "        return \"5\"\n",
    "    elif series == \"(835000.0, 1000000.0]\":\n",
    "        return \"6\" \n",
    " \n",
    "rawData['CREDIT_GROUP'] = rawData['CREDIT_GROUP'].apply(credit_group)\n",
    "\n",
    "rawData['CREDIT_GROUP'].value_counts(sort=False) "
   ]
  },
  {
   "cell_type": "markdown",
   "metadata": {},
   "source": [
    "#### 1-Selecting features for Classification\n",
    "In the last code I cleaned and grouped some columns like Marriage, Education and Limit_bal.\n",
    "Checking correlations I found that most of Bill_AMT features are correlated. So I'm going to create 2 dataset with distinct features to test which one performs better."
   ]
  },
  {
   "cell_type": "code",
   "execution_count": 47,
   "metadata": {},
   "outputs": [],
   "source": [
    "features1 = ['LIMIT_BAL', 'EDUCATION', 'MARRIAGE', 'PAY_0','PAY_2', 'PAY_3', \n",
    "            'PAY_4', 'PAY_5', 'PAY_6','BILL_AMT1', 'BILL_AMT4', 'PAY_AMT1',\n",
    "            'PAY_AMT2', 'PAY_AMT3', 'PAY_AMT4', 'PAY_AMT5', 'PAY_AMT6', \n",
    "            'AGE_GROUP','IS_FEMALE']\n",
    "\n",
    "features2 = ['EDUCATION', 'MARRIAGE', 'PAY_0','PAY_2', 'PAY_3', \n",
    "            'PAY_4', 'PAY_5', 'PAY_6','BILL_AMT1', 'BILL_AMT4', 'PAY_AMT1',\n",
    "            'PAY_AMT2', 'PAY_AMT3', 'PAY_AMT4', 'PAY_AMT5', 'PAY_AMT6', \n",
    "            'AGE_GROUP', 'IS_FEMALE', 'CREDIT_GROUP']"
   ]
  },
  {
   "cell_type": "markdown",
   "metadata": {},
   "source": [
    "#### 2. Select the Dependent Variable"
   ]
  },
  {
   "cell_type": "code",
   "execution_count": 48,
   "metadata": {},
   "outputs": [],
   "source": [
    "y = rawData['DEFAULT'].copy()"
   ]
  },
  {
   "cell_type": "markdown",
   "metadata": {},
   "source": [
    "#### 3. Select independent features -  X-variables"
   ]
  },
  {
   "cell_type": "code",
   "execution_count": 49,
   "metadata": {},
   "outputs": [],
   "source": [
    "X1 = rawData[features1].copy()\n",
    "X2 = rawData[features2].copy()"
   ]
  },
  {
   "cell_type": "markdown",
   "metadata": {},
   "source": [
    "#### 4. Establish the training sets and Testing sets (70/30)\n",
    "Both sets are going to be tested in the same Algorithms. "
   ]
  },
  {
   "cell_type": "code",
   "execution_count": 50,
   "metadata": {},
   "outputs": [],
   "source": [
    "X1_train, X1_test, y1_train, y1_test = train_test_split(X1, y, test_size=0.30, random_state=42)\n",
    "X2_train, X2_test, y2_train, y2_test = train_test_split(X2, y, test_size=0.30, random_state=42)"
   ]
  },
  {
   "cell_type": "code",
   "execution_count": 51,
   "metadata": {},
   "outputs": [
    {
     "data": {
      "text/html": [
       "<div>\n",
       "<style scoped>\n",
       "    .dataframe tbody tr th:only-of-type {\n",
       "        vertical-align: middle;\n",
       "    }\n",
       "\n",
       "    .dataframe tbody tr th {\n",
       "        vertical-align: top;\n",
       "    }\n",
       "\n",
       "    .dataframe thead th {\n",
       "        text-align: right;\n",
       "    }\n",
       "</style>\n",
       "<table border=\"1\" class=\"dataframe\">\n",
       "  <thead>\n",
       "    <tr style=\"text-align: right;\">\n",
       "      <th></th>\n",
       "      <th>LIMIT_BAL</th>\n",
       "      <th>EDUCATION</th>\n",
       "      <th>MARRIAGE</th>\n",
       "      <th>PAY_0</th>\n",
       "      <th>PAY_2</th>\n",
       "      <th>PAY_3</th>\n",
       "      <th>PAY_4</th>\n",
       "      <th>PAY_5</th>\n",
       "      <th>PAY_6</th>\n",
       "      <th>BILL_AMT1</th>\n",
       "      <th>BILL_AMT4</th>\n",
       "      <th>PAY_AMT1</th>\n",
       "      <th>PAY_AMT2</th>\n",
       "      <th>PAY_AMT3</th>\n",
       "      <th>PAY_AMT4</th>\n",
       "      <th>PAY_AMT5</th>\n",
       "      <th>PAY_AMT6</th>\n",
       "      <th>AGE_GROUP</th>\n",
       "      <th>IS_FEMALE</th>\n",
       "    </tr>\n",
       "  </thead>\n",
       "  <tbody>\n",
       "    <tr>\n",
       "      <td>28465</td>\n",
       "      <td>240000</td>\n",
       "      <td>1</td>\n",
       "      <td>1</td>\n",
       "      <td>-2</td>\n",
       "      <td>-2</td>\n",
       "      <td>-2</td>\n",
       "      <td>-2</td>\n",
       "      <td>-2</td>\n",
       "      <td>-2</td>\n",
       "      <td>0</td>\n",
       "      <td>0</td>\n",
       "      <td>0</td>\n",
       "      <td>0</td>\n",
       "      <td>0</td>\n",
       "      <td>0</td>\n",
       "      <td>0</td>\n",
       "      <td>0</td>\n",
       "      <td>4</td>\n",
       "      <td>1</td>\n",
       "    </tr>\n",
       "    <tr>\n",
       "      <td>27622</td>\n",
       "      <td>50000</td>\n",
       "      <td>1</td>\n",
       "      <td>2</td>\n",
       "      <td>-1</td>\n",
       "      <td>-1</td>\n",
       "      <td>-1</td>\n",
       "      <td>-1</td>\n",
       "      <td>-1</td>\n",
       "      <td>-1</td>\n",
       "      <td>3430</td>\n",
       "      <td>4800</td>\n",
       "      <td>2548</td>\n",
       "      <td>2321</td>\n",
       "      <td>4800</td>\n",
       "      <td>9810</td>\n",
       "      <td>660</td>\n",
       "      <td>2980</td>\n",
       "      <td>1</td>\n",
       "      <td>1</td>\n",
       "    </tr>\n",
       "    <tr>\n",
       "      <td>28376</td>\n",
       "      <td>50000</td>\n",
       "      <td>2</td>\n",
       "      <td>1</td>\n",
       "      <td>2</td>\n",
       "      <td>2</td>\n",
       "      <td>2</td>\n",
       "      <td>2</td>\n",
       "      <td>0</td>\n",
       "      <td>0</td>\n",
       "      <td>46203</td>\n",
       "      <td>47956</td>\n",
       "      <td>0</td>\n",
       "      <td>4700</td>\n",
       "      <td>0</td>\n",
       "      <td>2004</td>\n",
       "      <td>3500</td>\n",
       "      <td>0</td>\n",
       "      <td>3</td>\n",
       "      <td>1</td>\n",
       "    </tr>\n",
       "    <tr>\n",
       "      <td>10917</td>\n",
       "      <td>200000</td>\n",
       "      <td>3</td>\n",
       "      <td>1</td>\n",
       "      <td>6</td>\n",
       "      <td>5</td>\n",
       "      <td>4</td>\n",
       "      <td>3</td>\n",
       "      <td>2</td>\n",
       "      <td>2</td>\n",
       "      <td>110185</td>\n",
       "      <td>102549</td>\n",
       "      <td>0</td>\n",
       "      <td>0</td>\n",
       "      <td>0</td>\n",
       "      <td>0</td>\n",
       "      <td>0</td>\n",
       "      <td>0</td>\n",
       "      <td>5</td>\n",
       "      <td>1</td>\n",
       "    </tr>\n",
       "    <tr>\n",
       "      <td>27234</td>\n",
       "      <td>240000</td>\n",
       "      <td>1</td>\n",
       "      <td>1</td>\n",
       "      <td>-1</td>\n",
       "      <td>-1</td>\n",
       "      <td>-1</td>\n",
       "      <td>0</td>\n",
       "      <td>-1</td>\n",
       "      <td>-1</td>\n",
       "      <td>2024</td>\n",
       "      <td>17102</td>\n",
       "      <td>2017</td>\n",
       "      <td>21817</td>\n",
       "      <td>1120</td>\n",
       "      <td>13434</td>\n",
       "      <td>22772</td>\n",
       "      <td>22820</td>\n",
       "      <td>3</td>\n",
       "      <td>0</td>\n",
       "    </tr>\n",
       "  </tbody>\n",
       "</table>\n",
       "</div>"
      ],
      "text/plain": [
       "       LIMIT_BAL  EDUCATION  MARRIAGE  PAY_0  PAY_2  PAY_3  PAY_4  PAY_5  \\\n",
       "28465     240000          1         1     -2     -2     -2     -2     -2   \n",
       "27622      50000          1         2     -1     -1     -1     -1     -1   \n",
       "28376      50000          2         1      2      2      2      2      0   \n",
       "10917     200000          3         1      6      5      4      3      2   \n",
       "27234     240000          1         1     -1     -1     -1      0     -1   \n",
       "\n",
       "       PAY_6  BILL_AMT1  BILL_AMT4  PAY_AMT1  PAY_AMT2  PAY_AMT3  PAY_AMT4  \\\n",
       "28465     -2          0          0         0         0         0         0   \n",
       "27622     -1       3430       4800      2548      2321      4800      9810   \n",
       "28376      0      46203      47956         0      4700         0      2004   \n",
       "10917      2     110185     102549         0         0         0         0   \n",
       "27234     -1       2024      17102      2017     21817      1120     13434   \n",
       "\n",
       "       PAY_AMT5  PAY_AMT6 AGE_GROUP  IS_FEMALE  \n",
       "28465         0         0         4          1  \n",
       "27622       660      2980         1          1  \n",
       "28376      3500         0         3          1  \n",
       "10917         0         0         5          1  \n",
       "27234     22772     22820         3          0  "
      ]
     },
     "execution_count": 51,
     "metadata": {},
     "output_type": "execute_result"
    }
   ],
   "source": [
    "X1_train.head()"
   ]
  },
  {
   "cell_type": "code",
   "execution_count": 13,
   "metadata": {},
   "outputs": [
    {
     "data": {
      "text/html": [
       "<div>\n",
       "<style scoped>\n",
       "    .dataframe tbody tr th:only-of-type {\n",
       "        vertical-align: middle;\n",
       "    }\n",
       "\n",
       "    .dataframe tbody tr th {\n",
       "        vertical-align: top;\n",
       "    }\n",
       "\n",
       "    .dataframe thead th {\n",
       "        text-align: right;\n",
       "    }\n",
       "</style>\n",
       "<table border=\"1\" class=\"dataframe\">\n",
       "  <thead>\n",
       "    <tr style=\"text-align: right;\">\n",
       "      <th></th>\n",
       "      <th>EDUCATION</th>\n",
       "      <th>MARRIAGE</th>\n",
       "      <th>PAY_0</th>\n",
       "      <th>PAY_2</th>\n",
       "      <th>PAY_3</th>\n",
       "      <th>PAY_4</th>\n",
       "      <th>PAY_5</th>\n",
       "      <th>PAY_6</th>\n",
       "      <th>BILL_AMT1</th>\n",
       "      <th>BILL_AMT4</th>\n",
       "      <th>PAY_AMT1</th>\n",
       "      <th>PAY_AMT2</th>\n",
       "      <th>PAY_AMT3</th>\n",
       "      <th>PAY_AMT4</th>\n",
       "      <th>PAY_AMT5</th>\n",
       "      <th>PAY_AMT6</th>\n",
       "      <th>AGE_GROUP2</th>\n",
       "      <th>IS_FEMALE</th>\n",
       "      <th>CREDIT_GROUP</th>\n",
       "    </tr>\n",
       "  </thead>\n",
       "  <tbody>\n",
       "    <tr>\n",
       "      <td>28465</td>\n",
       "      <td>1</td>\n",
       "      <td>1</td>\n",
       "      <td>-2</td>\n",
       "      <td>-2</td>\n",
       "      <td>-2</td>\n",
       "      <td>-2</td>\n",
       "      <td>-2</td>\n",
       "      <td>-2</td>\n",
       "      <td>0</td>\n",
       "      <td>0</td>\n",
       "      <td>0</td>\n",
       "      <td>0</td>\n",
       "      <td>0</td>\n",
       "      <td>0</td>\n",
       "      <td>0</td>\n",
       "      <td>0</td>\n",
       "      <td>(32.6, 44.2]</td>\n",
       "      <td>1</td>\n",
       "      <td>(175000.0, 340000.0]</td>\n",
       "    </tr>\n",
       "    <tr>\n",
       "      <td>27622</td>\n",
       "      <td>1</td>\n",
       "      <td>2</td>\n",
       "      <td>-1</td>\n",
       "      <td>-1</td>\n",
       "      <td>-1</td>\n",
       "      <td>-1</td>\n",
       "      <td>-1</td>\n",
       "      <td>-1</td>\n",
       "      <td>3430</td>\n",
       "      <td>4800</td>\n",
       "      <td>2548</td>\n",
       "      <td>2321</td>\n",
       "      <td>4800</td>\n",
       "      <td>9810</td>\n",
       "      <td>660</td>\n",
       "      <td>2980</td>\n",
       "      <td>(20.942, 32.6]</td>\n",
       "      <td>1</td>\n",
       "      <td>(9010.0, 175000.0]</td>\n",
       "    </tr>\n",
       "    <tr>\n",
       "      <td>28376</td>\n",
       "      <td>2</td>\n",
       "      <td>1</td>\n",
       "      <td>2</td>\n",
       "      <td>2</td>\n",
       "      <td>2</td>\n",
       "      <td>2</td>\n",
       "      <td>0</td>\n",
       "      <td>0</td>\n",
       "      <td>46203</td>\n",
       "      <td>47956</td>\n",
       "      <td>0</td>\n",
       "      <td>4700</td>\n",
       "      <td>0</td>\n",
       "      <td>2004</td>\n",
       "      <td>3500</td>\n",
       "      <td>0</td>\n",
       "      <td>(32.6, 44.2]</td>\n",
       "      <td>1</td>\n",
       "      <td>(9010.0, 175000.0]</td>\n",
       "    </tr>\n",
       "    <tr>\n",
       "      <td>10917</td>\n",
       "      <td>3</td>\n",
       "      <td>1</td>\n",
       "      <td>6</td>\n",
       "      <td>5</td>\n",
       "      <td>4</td>\n",
       "      <td>3</td>\n",
       "      <td>2</td>\n",
       "      <td>2</td>\n",
       "      <td>110185</td>\n",
       "      <td>102549</td>\n",
       "      <td>0</td>\n",
       "      <td>0</td>\n",
       "      <td>0</td>\n",
       "      <td>0</td>\n",
       "      <td>0</td>\n",
       "      <td>0</td>\n",
       "      <td>(44.2, 55.8]</td>\n",
       "      <td>1</td>\n",
       "      <td>(175000.0, 340000.0]</td>\n",
       "    </tr>\n",
       "    <tr>\n",
       "      <td>27234</td>\n",
       "      <td>1</td>\n",
       "      <td>1</td>\n",
       "      <td>-1</td>\n",
       "      <td>-1</td>\n",
       "      <td>-1</td>\n",
       "      <td>0</td>\n",
       "      <td>-1</td>\n",
       "      <td>-1</td>\n",
       "      <td>2024</td>\n",
       "      <td>17102</td>\n",
       "      <td>2017</td>\n",
       "      <td>21817</td>\n",
       "      <td>1120</td>\n",
       "      <td>13434</td>\n",
       "      <td>22772</td>\n",
       "      <td>22820</td>\n",
       "      <td>(32.6, 44.2]</td>\n",
       "      <td>0</td>\n",
       "      <td>(175000.0, 340000.0]</td>\n",
       "    </tr>\n",
       "  </tbody>\n",
       "</table>\n",
       "</div>"
      ],
      "text/plain": [
       "       EDUCATION  MARRIAGE  PAY_0  PAY_2  PAY_3  PAY_4  PAY_5  PAY_6  \\\n",
       "28465          1         1     -2     -2     -2     -2     -2     -2   \n",
       "27622          1         2     -1     -1     -1     -1     -1     -1   \n",
       "28376          2         1      2      2      2      2      0      0   \n",
       "10917          3         1      6      5      4      3      2      2   \n",
       "27234          1         1     -1     -1     -1      0     -1     -1   \n",
       "\n",
       "       BILL_AMT1  BILL_AMT4  PAY_AMT1  PAY_AMT2  PAY_AMT3  PAY_AMT4  PAY_AMT5  \\\n",
       "28465          0          0         0         0         0         0         0   \n",
       "27622       3430       4800      2548      2321      4800      9810       660   \n",
       "28376      46203      47956         0      4700         0      2004      3500   \n",
       "10917     110185     102549         0         0         0         0         0   \n",
       "27234       2024      17102      2017     21817      1120     13434     22772   \n",
       "\n",
       "       PAY_AMT6      AGE_GROUP2  IS_FEMALE          CREDIT_GROUP  \n",
       "28465         0    (32.6, 44.2]          1  (175000.0, 340000.0]  \n",
       "27622      2980  (20.942, 32.6]          1    (9010.0, 175000.0]  \n",
       "28376         0    (32.6, 44.2]          1    (9010.0, 175000.0]  \n",
       "10917         0    (44.2, 55.8]          1  (175000.0, 340000.0]  \n",
       "27234     22820    (32.6, 44.2]          0  (175000.0, 340000.0]  "
      ]
     },
     "execution_count": 13,
     "metadata": {},
     "output_type": "execute_result"
    }
   ],
   "source": [
    "X2_train.head()"
   ]
  },
  {
   "cell_type": "markdown",
   "metadata": {},
   "source": [
    "## Algorithm Selection\n",
    "### Random Forest Classifier"
   ]
  },
  {
   "cell_type": "code",
   "execution_count": 52,
   "metadata": {},
   "outputs": [],
   "source": [
    "modelRF= RandomForestClassifier()"
   ]
  },
  {
   "cell_type": "markdown",
   "metadata": {},
   "source": [
    "#### X1 Data Set"
   ]
  },
  {
   "cell_type": "code",
   "execution_count": 68,
   "metadata": {},
   "outputs": [
    {
     "name": "stderr",
     "output_type": "stream",
     "text": [
      "C:\\ProgramData\\Anaconda3\\lib\\site-packages\\sklearn\\model_selection\\_split.py:1978: FutureWarning: The default value of cv will change from 3 to 5 in version 0.22. Specify it explicitly to silence this warning.\n",
      "  warnings.warn(CV_WARNING, FutureWarning)\n"
     ]
    },
    {
     "name": "stdout",
     "output_type": "stream",
     "text": [
      "[0.80802742 0.80528571 0.80240034]\n"
     ]
    },
    {
     "data": {
      "text/plain": [
       "0.9788095238095238"
      ]
     },
     "execution_count": 68,
     "metadata": {},
     "output_type": "execute_result"
    }
   ],
   "source": [
    "modelRF.fit(X1_train,y1_train)\n",
    "print(cross_val_score(modelRF, X1_train, y1_train))\n",
    "modelRF.score(X1_train,y1_train)"
   ]
  },
  {
   "cell_type": "markdown",
   "metadata": {},
   "source": [
    "#### X2 Data Set"
   ]
  },
  {
   "cell_type": "code",
   "execution_count": 69,
   "metadata": {},
   "outputs": [
    {
     "name": "stderr",
     "output_type": "stream",
     "text": [
      "C:\\ProgramData\\Anaconda3\\lib\\site-packages\\sklearn\\model_selection\\_split.py:1978: FutureWarning: The default value of cv will change from 3 to 5 in version 0.22. Specify it explicitly to silence this warning.\n",
      "  warnings.warn(CV_WARNING, FutureWarning)\n"
     ]
    },
    {
     "name": "stdout",
     "output_type": "stream",
     "text": [
      "[0.80459934 0.802      0.80382912]\n"
     ]
    },
    {
     "data": {
      "text/plain": [
       "0.974047619047619"
      ]
     },
     "execution_count": 69,
     "metadata": {},
     "output_type": "execute_result"
    }
   ],
   "source": [
    "modelRF.fit(X2_train,y2_train)\n",
    "print(cross_val_score(modelRF, X2_train, y2_train))\n",
    "modelRF.score(X2_train,y2_train)"
   ]
  },
  {
   "cell_type": "markdown",
   "metadata": {},
   "source": [
    "### Ada Boost Classifier"
   ]
  },
  {
   "cell_type": "code",
   "execution_count": 61,
   "metadata": {},
   "outputs": [],
   "source": [
    "modelADA = AdaBoostClassifier()"
   ]
  },
  {
   "cell_type": "markdown",
   "metadata": {},
   "source": [
    "#### X1 Dataset"
   ]
  },
  {
   "cell_type": "code",
   "execution_count": 63,
   "metadata": {},
   "outputs": [
    {
     "name": "stderr",
     "output_type": "stream",
     "text": [
      "C:\\ProgramData\\Anaconda3\\lib\\site-packages\\sklearn\\model_selection\\_split.py:1978: FutureWarning: The default value of cv will change from 3 to 5 in version 0.22. Specify it explicitly to silence this warning.\n",
      "  warnings.warn(CV_WARNING, FutureWarning)\n"
     ]
    },
    {
     "name": "stdout",
     "output_type": "stream",
     "text": [
      "[0.82302528 0.81428571 0.81625947]\n"
     ]
    },
    {
     "data": {
      "text/plain": [
       "0.8189047619047619"
      ]
     },
     "execution_count": 63,
     "metadata": {},
     "output_type": "execute_result"
    }
   ],
   "source": [
    "modelADA.fit(X1_train,y1_train)\n",
    "print(cross_val_score(modelADA, X1_train, y1_train))\n",
    "modelADA.score(X1_train,y1_train)"
   ]
  },
  {
   "cell_type": "markdown",
   "metadata": {},
   "source": [
    "#### X2 Dataset"
   ]
  },
  {
   "cell_type": "code",
   "execution_count": 64,
   "metadata": {},
   "outputs": [
    {
     "name": "stderr",
     "output_type": "stream",
     "text": [
      "C:\\ProgramData\\Anaconda3\\lib\\site-packages\\sklearn\\model_selection\\_split.py:1978: FutureWarning: The default value of cv will change from 3 to 5 in version 0.22. Specify it explicitly to silence this warning.\n",
      "  warnings.warn(CV_WARNING, FutureWarning)\n"
     ]
    },
    {
     "name": "stdout",
     "output_type": "stream",
     "text": [
      "[0.82288245 0.81314286 0.81483069]\n"
     ]
    },
    {
     "data": {
      "text/plain": [
       "0.817952380952381"
      ]
     },
     "execution_count": 64,
     "metadata": {},
     "output_type": "execute_result"
    }
   ],
   "source": [
    "modelADA.fit(X2_train,y2_train)\n",
    "print(cross_val_score(modelADA, X2_train, y2_train))\n",
    "modelADA.score(X2_train,y2_train)"
   ]
  },
  {
   "cell_type": "markdown",
   "metadata": {},
   "source": [
    "### Gradient Boost Classifier"
   ]
  },
  {
   "cell_type": "code",
   "execution_count": 65,
   "metadata": {},
   "outputs": [],
   "source": [
    "modelGBC = GradientBoostingClassifier()"
   ]
  },
  {
   "cell_type": "markdown",
   "metadata": {},
   "source": [
    "#### X1 Dataset"
   ]
  },
  {
   "cell_type": "code",
   "execution_count": 66,
   "metadata": {},
   "outputs": [
    {
     "name": "stderr",
     "output_type": "stream",
     "text": [
      "C:\\ProgramData\\Anaconda3\\lib\\site-packages\\sklearn\\model_selection\\_split.py:1978: FutureWarning: The default value of cv will change from 3 to 5 in version 0.22. Specify it explicitly to silence this warning.\n",
      "  warnings.warn(CV_WARNING, FutureWarning)\n"
     ]
    },
    {
     "name": "stdout",
     "output_type": "stream",
     "text": [
      "[0.82445365 0.81871429 0.81840263]\n"
     ]
    },
    {
     "data": {
      "text/plain": [
       "0.8275714285714286"
      ]
     },
     "execution_count": 66,
     "metadata": {},
     "output_type": "execute_result"
    }
   ],
   "source": [
    "modelGBC.fit(X1_train,y1_train)\n",
    "print(cross_val_score(modelGBC, X1_train, y1_train))\n",
    "modelGBC.score(X1_train,y1_train)"
   ]
  },
  {
   "cell_type": "markdown",
   "metadata": {},
   "source": [
    "#### X2 Dataset"
   ]
  },
  {
   "cell_type": "code",
   "execution_count": 67,
   "metadata": {},
   "outputs": [
    {
     "name": "stderr",
     "output_type": "stream",
     "text": [
      "C:\\ProgramData\\Anaconda3\\lib\\site-packages\\sklearn\\model_selection\\_split.py:1978: FutureWarning: The default value of cv will change from 3 to 5 in version 0.22. Specify it explicitly to silence this warning.\n",
      "  warnings.warn(CV_WARNING, FutureWarning)\n"
     ]
    },
    {
     "name": "stdout",
     "output_type": "stream",
     "text": [
      "[0.82531067 0.81842857 0.81925989]\n"
     ]
    },
    {
     "data": {
      "text/plain": [
       "0.8272857142857143"
      ]
     },
     "execution_count": 67,
     "metadata": {},
     "output_type": "execute_result"
    }
   ],
   "source": [
    "modelGBC.fit(X2_train,y2_train)\n",
    "print(cross_val_score(modelGBC, X2_train, y2_train))\n",
    "modelGBC.score(X2_train,y2_train)"
   ]
  },
  {
   "cell_type": "markdown",
   "metadata": {},
   "source": [
    "## Tunning Selected Model\n",
    "The model with best performance is RANDOM FOREST with dataset X1. So, next step is to tune the parameters"
   ]
  },
  {
   "cell_type": "code",
   "execution_count": 76,
   "metadata": {},
   "outputs": [
    {
     "name": "stdout",
     "output_type": "stream",
     "text": [
      "Wall time: 2min 30s\n",
      "RandomForestClassifier(bootstrap=True, class_weight='balanced',\n",
      "                       criterion='entropy', max_depth=None, max_features='auto',\n",
      "                       max_leaf_nodes=None, min_impurity_decrease=0.0,\n",
      "                       min_impurity_split=None, min_samples_leaf=1,\n",
      "                       min_samples_split=2, min_weight_fraction_leaf=0.0,\n",
      "                       n_estimators=200, n_jobs=-1, oob_score=False,\n",
      "                       random_state=None, verbose=0, warm_start=False)\n",
      "0.8167619047619048\n"
     ]
    }
   ],
   "source": [
    "#Create a grid for tunning\n",
    "param_grid = {'n_estimators': [200, 400], \n",
    "              'criterion': ['entropy', 'gini'],\n",
    "              'class_weight' : ['balanced'], 'n_jobs' : [-1]} #use all the computational CPU\n",
    "\n",
    "grid_forest = GridSearchCV(RandomForestClassifier(), param_grid, cv=5)\n",
    "\n",
    "%time grid_forest = grid_forest.fit(X1_train, y1_train)\n",
    "\n",
    "print(grid_forest.best_estimator_)\n",
    "print(grid_forest.best_score_)\n",
    "modelRF_tuned = grid_forest.best_estimator_"
   ]
  },
  {
   "cell_type": "code",
   "execution_count": 79,
   "metadata": {},
   "outputs": [
    {
     "data": {
      "text/plain": [
       "0.9975714285714286"
      ]
     },
     "execution_count": 79,
     "metadata": {},
     "output_type": "execute_result"
    }
   ],
   "source": [
    "modelRF_tuned.score(X1_train,y1_train)"
   ]
  },
  {
   "cell_type": "markdown",
   "metadata": {},
   "source": [
    "## Making Predictions"
   ]
  },
  {
   "cell_type": "code",
   "execution_count": 97,
   "metadata": {},
   "outputs": [
    {
     "name": "stdout",
     "output_type": "stream",
     "text": [
      "Accuracy: 0.812\n",
      "f1_Score: 0.447\n"
     ]
    }
   ],
   "source": [
    "#Make Predictions\n",
    "predictions = modelRF_tuned.predict(X1_test)\n",
    "accuracy = accuracy_score(y_true = y1_test, y_pred = predictions)\n",
    "f1_sc = f1_score(y_true = y1_test, y_pred = predictions)\n",
    "print('Accuracy: %.3f' % accuracy)\n",
    "print('f1_Score: %.3f' % f1_sc)"
   ]
  },
  {
   "cell_type": "markdown",
   "metadata": {},
   "source": [
    "## Final accuracy: 0.812"
   ]
  },
  {
   "cell_type": "code",
   "execution_count": 102,
   "metadata": {},
   "outputs": [
    {
     "data": {
      "text/html": [
       "<div>\n",
       "<style scoped>\n",
       "    .dataframe tbody tr th:only-of-type {\n",
       "        vertical-align: middle;\n",
       "    }\n",
       "\n",
       "    .dataframe tbody tr th {\n",
       "        vertical-align: top;\n",
       "    }\n",
       "\n",
       "    .dataframe thead th {\n",
       "        text-align: right;\n",
       "    }\n",
       "</style>\n",
       "<table border=\"1\" class=\"dataframe\">\n",
       "  <thead>\n",
       "    <tr style=\"text-align: right;\">\n",
       "      <th></th>\n",
       "      <th>feat</th>\n",
       "      <th>score</th>\n",
       "    </tr>\n",
       "  </thead>\n",
       "  <tbody>\n",
       "    <tr>\n",
       "      <td>9</td>\n",
       "      <td>BILL_AMT1</td>\n",
       "      <td>0.094701</td>\n",
       "    </tr>\n",
       "    <tr>\n",
       "      <td>3</td>\n",
       "      <td>PAY_0</td>\n",
       "      <td>0.083647</td>\n",
       "    </tr>\n",
       "    <tr>\n",
       "      <td>0</td>\n",
       "      <td>LIMIT_BAL</td>\n",
       "      <td>0.083057</td>\n",
       "    </tr>\n",
       "    <tr>\n",
       "      <td>10</td>\n",
       "      <td>BILL_AMT4</td>\n",
       "      <td>0.079949</td>\n",
       "    </tr>\n",
       "    <tr>\n",
       "      <td>11</td>\n",
       "      <td>PAY_AMT1</td>\n",
       "      <td>0.077221</td>\n",
       "    </tr>\n",
       "    <tr>\n",
       "      <td>12</td>\n",
       "      <td>PAY_AMT2</td>\n",
       "      <td>0.073816</td>\n",
       "    </tr>\n",
       "    <tr>\n",
       "      <td>13</td>\n",
       "      <td>PAY_AMT3</td>\n",
       "      <td>0.069306</td>\n",
       "    </tr>\n",
       "    <tr>\n",
       "      <td>16</td>\n",
       "      <td>PAY_AMT6</td>\n",
       "      <td>0.068788</td>\n",
       "    </tr>\n",
       "    <tr>\n",
       "      <td>14</td>\n",
       "      <td>PAY_AMT4</td>\n",
       "      <td>0.068209</td>\n",
       "    </tr>\n",
       "    <tr>\n",
       "      <td>15</td>\n",
       "      <td>PAY_AMT5</td>\n",
       "      <td>0.066114</td>\n",
       "    </tr>\n",
       "    <tr>\n",
       "      <td>4</td>\n",
       "      <td>PAY_2</td>\n",
       "      <td>0.041063</td>\n",
       "    </tr>\n",
       "    <tr>\n",
       "      <td>17</td>\n",
       "      <td>AGE_GROUP</td>\n",
       "      <td>0.039646</td>\n",
       "    </tr>\n",
       "    <tr>\n",
       "      <td>5</td>\n",
       "      <td>PAY_3</td>\n",
       "      <td>0.028892</td>\n",
       "    </tr>\n",
       "    <tr>\n",
       "      <td>1</td>\n",
       "      <td>EDUCATION</td>\n",
       "      <td>0.028038</td>\n",
       "    </tr>\n",
       "    <tr>\n",
       "      <td>6</td>\n",
       "      <td>PAY_4</td>\n",
       "      <td>0.024134</td>\n",
       "    </tr>\n",
       "    <tr>\n",
       "      <td>8</td>\n",
       "      <td>PAY_6</td>\n",
       "      <td>0.020699</td>\n",
       "    </tr>\n",
       "    <tr>\n",
       "      <td>7</td>\n",
       "      <td>PAY_5</td>\n",
       "      <td>0.019493</td>\n",
       "    </tr>\n",
       "    <tr>\n",
       "      <td>2</td>\n",
       "      <td>MARRIAGE</td>\n",
       "      <td>0.017474</td>\n",
       "    </tr>\n",
       "    <tr>\n",
       "      <td>18</td>\n",
       "      <td>IS_FEMALE</td>\n",
       "      <td>0.015754</td>\n",
       "    </tr>\n",
       "  </tbody>\n",
       "</table>\n",
       "</div>"
      ],
      "text/plain": [
       "         feat     score\n",
       "9   BILL_AMT1  0.094701\n",
       "3       PAY_0  0.083647\n",
       "0   LIMIT_BAL  0.083057\n",
       "10  BILL_AMT4  0.079949\n",
       "11   PAY_AMT1  0.077221\n",
       "12   PAY_AMT2  0.073816\n",
       "13   PAY_AMT3  0.069306\n",
       "16   PAY_AMT6  0.068788\n",
       "14   PAY_AMT4  0.068209\n",
       "15   PAY_AMT5  0.066114\n",
       "4       PAY_2  0.041063\n",
       "17  AGE_GROUP  0.039646\n",
       "5       PAY_3  0.028892\n",
       "1   EDUCATION  0.028038\n",
       "6       PAY_4  0.024134\n",
       "8       PAY_6  0.020699\n",
       "7       PAY_5  0.019493\n",
       "2    MARRIAGE  0.017474\n",
       "18  IS_FEMALE  0.015754"
      ]
     },
     "execution_count": 102,
     "metadata": {},
     "output_type": "execute_result"
    }
   ],
   "source": [
    "def get_feature_importance(clsf, ftrs):\n",
    "    imp = clsf.feature_importances_.tolist()\n",
    "    feat = ftrs\n",
    "    result = pd.DataFrame({'feat':feat,'score':imp})\n",
    "    result = result.sort_values(by=['score'],ascending=False)\n",
    "    return result\n",
    "\n",
    "get_feature_importance(modelRF_tuned, features1)"
   ]
  },
  {
   "cell_type": "markdown",
   "metadata": {},
   "source": [
    "## Ploting Results"
   ]
  },
  {
   "cell_type": "code",
   "execution_count": 155,
   "metadata": {},
   "outputs": [
    {
     "data": {
      "image/png": "[encoded data removed]",
      "text/plain": [
       "<Figure size 432x288 with 2 Axes>"
      ]
     },
     "metadata": {
      "needs_background": "light"
     },
     "output_type": "display_data"
    }
   ],
   "source": [
    "cf =confusion_matrix(y1_test ,predictions)\n",
    "\n",
    "import itertools \n",
    "\n",
    "plt.imshow(cf,cmap=plt.cm.Greens,interpolation='nearest')\n",
    "plt.colorbar()\n",
    "plt.title('Confusion Matrix')\n",
    "plt.xlabel('Predicted')\n",
    "plt.ylabel('Actual')\n",
    "tick_marks = np.arange(len(set(y1_test))-1) # length of classes\n",
    "class_labels = ['0','1']\n",
    "tick_marks\n",
    "plt.xticks(tick_marks,class_labels)\n",
    "plt.yticks(tick_marks,class_labels)\n",
    "\n",
    "# plotting text value inside cells\n",
    "thresh = cf.max() / 2.\n",
    "for i,j in itertools.product(range(cf.shape[0]),range(cf.shape[1])):\n",
    "    plt.text(j,i,format(cf[i,j],'d'),horizontalalignment='center',color='white' if cf[i,j] >thresh else 'black')\n",
    "plt.show();"
   ]
  },
  {
   "cell_type": "markdown",
   "metadata": {},
   "source": [
    "## Conclusions:\n",
    "#### Our final Accuracy was 81% which is not bad for another kind of predictions but in the case of detecting Default Clients it needs to improve, I recommend to find more features and create more variables from the data CreditOne has, and continue testing."
   ]
  }
 ],
 "metadata": {
  "kernelspec": {
   "display_name": "Python 3",
   "language": "python",
   "name": "python3"
  },
  "language_info": {
   "codemirror_mode": {
    "name": "ipython",
    "version": 3
   },
   "file_extension": ".py",
   "mimetype": "text/x-python",
   "name": "python",
   "nbconvert_exporter": "python",
   "pygments_lexer": "ipython3",
   "version": "3.7.4"
  }
 },
 "nbformat": 4,
 "nbformat_minor": 2
}
